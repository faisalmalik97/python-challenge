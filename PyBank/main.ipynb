{
 "cells": [
  {
   "cell_type": "code",
   "execution_count": 1,
   "metadata": {},
   "outputs": [],
   "source": [
    "import os\n",
    "import csv"
   ]
  },
  {
   "cell_type": "code",
   "execution_count": 2,
   "metadata": {},
   "outputs": [],
   "source": [
    "PyBank_csv = os.path.join(\"Resources\" , \"budget_data.csv\")"
   ]
  },
  {
   "cell_type": "code",
   "execution_count": 3,
   "metadata": {},
   "outputs": [],
   "source": [
    "with open(PyBank_csv, \"r\") as csvfile:\n",
    "    csv_reader = csv.reader(csvfile)\n",
    "    csv_header = next(csvfile)\n",
    "    Total_months = 0\n",
    "    Sum = 0\n",
    "    Avg_chg = 0\n",
    "    Prof_Inc = 0\n",
    "    Prof_Dec = 0\n",
    "    Month_Inc = 0\n",
    "    Month_Dec = 0\n",
    "    Diff = 0\n",
    "    \n",
    "    for row in csv_reader:\n",
    "        Total_months += 1\n",
    "        Sum += int(row[1])\n",
    "        #Diff = int(row[1]) - Diff \n",
    "        Diff -= int(row[1]) \n",
    "        #Diff_total = Diff - (row[1])\n",
    "           "
   ]
  },
  {
   "cell_type": "code",
   "execution_count": 4,
   "metadata": {},
   "outputs": [
    {
     "name": "stdout",
     "output_type": "stream",
     "text": [
      "Financial Analysis\n",
      "----------------------------\n",
      "Total Months: 86\n",
      "Total: $38382578\n",
      "Average Change: -38382578\n",
      "Greatest Increase in Profit: 0 $0\n",
      "Greatest Decrease in Profit: 0 $0\n"
     ]
    }
   ],
   "source": [
    "print(\"Financial Analysis\")\n",
    "print(\"----------------------------\")\n",
    "print(f\"Total Months: {Total_months}\")\n",
    "print(f\"Total: ${Sum}\")\n",
    "print(f\"Average Change: {Diff}\")\n",
    "print(f\"Greatest Increase in Profit: {Month_Inc} ${Prof_Inc}\")\n",
    "print(f\"Greatest Decrease in Profit: {Month_Dec} ${Prof_Dec}\")"
   ]
  },
  {
   "cell_type": "code",
   "execution_count": 5,
   "metadata": {},
   "outputs": [
    {
     "data": {
      "text/plain": [
       "32"
      ]
     },
     "execution_count": 5,
     "metadata": {},
     "output_type": "execute_result"
    }
   ],
   "source": [
    "# Output to file:\n",
    "file = open('pybank.txt','a')\n",
    "file.write('Financial Analysis\\n')\n",
    "file.write('----------------------------------\\n')\n",
    "file.write(f'Total Months: {Total_months}\\n')\n",
    "file.write(f'Total: $ {Sum}\\n')\n",
    "file.write(f'Average Change: {Total_months}\\n')\n",
    "file.write(f'Greatest Increase in Profit: {Total_months}\\n')\n",
    "file.write(f'Greatest Decrease in Profit: {Total_months}\\n')"
   ]
  },
  {
   "cell_type": "code",
   "execution_count": null,
   "metadata": {},
   "outputs": [],
   "source": []
  },
  {
   "cell_type": "code",
   "execution_count": null,
   "metadata": {},
   "outputs": [],
   "source": []
  }
 ],
 "metadata": {
  "kernelspec": {
   "display_name": "Python 3",
   "language": "python",
   "name": "python3"
  },
  "language_info": {
   "codemirror_mode": {
    "name": "ipython",
    "version": 3
   },
   "file_extension": ".py",
   "mimetype": "text/x-python",
   "name": "python",
   "nbconvert_exporter": "python",
   "pygments_lexer": "ipython3",
   "version": "3.8.3"
  }
 },
 "nbformat": 4,
 "nbformat_minor": 4
}
