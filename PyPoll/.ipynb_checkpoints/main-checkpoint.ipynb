{
 "cells": [
  {
   "cell_type": "code",
   "execution_count": 121,
   "metadata": {},
   "outputs": [],
   "source": [
    "import os\n",
    "import csv"
   ]
  },
  {
   "cell_type": "code",
   "execution_count": 122,
   "metadata": {},
   "outputs": [],
   "source": [
    "Pollcsv = os.path.join(\"Resources\",\"election_data.csv\")"
   ]
  },
  {
   "cell_type": "code",
   "execution_count": 123,
   "metadata": {},
   "outputs": [],
   "source": [
    "#Initializers\n",
    "count = 0\n",
    "Candidates = []\n",
    "Win_Can = []\n",
    "V_C = []\n",
    "V_P = []\n"
   ]
  },
  {
   "cell_type": "code",
   "execution_count": 126,
   "metadata": {},
   "outputs": [
    {
     "name": "stdout",
     "output_type": "stream",
     "text": [
      "-------------------------\n",
      "Election Results\n",
      "-------------------------\n",
      "Total Votes :7042002\n",
      "-------------------------\n",
      "Khan: 63.00001050837531% (2218231)\n",
      "Correy: 19.999994319797125% (704200)\n",
      "O'Tooley: 2.999999147969569% (105630)\n",
      "Li: 13.999996023857989% (492940)\n",
      "Khan: 63.00001050837531% (4436462)\n",
      "Correy: 19.999994319797125% (1408400)\n",
      "O'Tooley: 2.999999147969569% (211260)\n",
      "Li: 13.999996023857989% (985880)\n",
      "-------------------------\n",
      "The winner is: Khan\n",
      "-------------------------\n"
     ]
    }
   ],
   "source": [
    "with open(Pollcsv, newline=\"\") as csvfile:\n",
    "    csvreader = csv.reader(csvfile, delimiter=\",\")\n",
    "    csv_header = next(csvreader)\n",
    "    \n",
    "    for row in csvreader:\n",
    "        count = count + 1\n",
    "        Candidates.append(row[2])\n",
    "        \n",
    "    for x in set(Candidates ):\n",
    "        \n",
    "        Win_Can.append(x)\n",
    "        y = Candidates.count(x)\n",
    "        V_C.append(y)\n",
    "        \n",
    "        z = (y/count)*100\n",
    "        V_P.append(z)\n",
    "        winning_vote_count = max(V_C)\n",
    "        winner = Win_Can[V_C.index(winning_vote_count)]\n",
    "\n",
    "\n",
    "print(\"-------------------------\")\n",
    "print(\"Election Results\")\n",
    "print(\"-------------------------\")\n",
    "print(\"Total Votes :\" + str(count))\n",
    "print(\"-------------------------\")\n",
    "#print(y)\n",
    "#print(unique_candidate)\n",
    "#print(winner)\n",
    "\n",
    "for i in range(len(Win_Can)):\n",
    "            print(Win_Can[i] + \": \" + str(V_P[i]) +\"% (\" + str(V_C[i])+ \")\")\n",
    "print(\"-------------------------\")\n",
    "print(\"The winner is: \" + winner)\n",
    "print(\"-------------------------\")"
   ]
  },
  {
   "cell_type": "code",
   "execution_count": 129,
   "metadata": {},
   "outputs": [],
   "source": [
    "with open('Election_Result.txt', 'w') as text:\n",
    "    text.write(\"Election Results \\n\")\n",
    "    text.write(\"---------------------------------------\\n\")\n",
    "    text.write(\"Total Votes: \" + str(count) + \"\\n\")\n",
    "    text.write(\"---------------------------------------\\n\")\n",
    "    for i in range(len(set(Win_Can))):\n",
    "        \n",
    "        text.write(Win_Can[i] + \": \" + str(V_P[i]) +\"% (\" + str(V_C[i]) + \")\\n\")\n",
    "        \n",
    "    text.write(\"---------------------------------------\\n\")\n",
    "    text.write(\"AND The winner is: \" + winner + \"\\n\")\n",
    "    text.write(\"---------------------------------------\\n\")"
   ]
  },
  {
   "cell_type": "code",
   "execution_count": null,
   "metadata": {},
   "outputs": [],
   "source": []
  }
 ],
 "metadata": {
  "kernelspec": {
   "display_name": "Python 3",
   "language": "python",
   "name": "python3"
  },
  "language_info": {
   "codemirror_mode": {
    "name": "ipython",
    "version": 3
   },
   "file_extension": ".py",
   "mimetype": "text/x-python",
   "name": "python",
   "nbconvert_exporter": "python",
   "pygments_lexer": "ipython3",
   "version": "3.8.3"
  }
 },
 "nbformat": 4,
 "nbformat_minor": 4
}
